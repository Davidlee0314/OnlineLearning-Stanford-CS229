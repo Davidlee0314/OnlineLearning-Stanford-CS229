{
 "cells": [
  {
   "cell_type": "markdown",
   "metadata": {},
   "source": [
    "Linear invariance of optimization algorithms\n",
    "---\n",
    "\n",
    "## (a)\n",
    "First, we need to prove two theorem\n",
    "\n",
    "1. Suppose $g(z) \\equiv f(Az)$, A is an nxn matrix and z is nx1 vector\n",
    "\n",
    "then $\\nabla_zg(z) = A^T\\nabla_{Az}f(Az)$\n",
    "\n",
    "proof: from chain rule, \n",
    "\n",
    "$\\frac{\\partial g(z)}{\\partial z_i} = \\nabla_{Az} f(Az) \\cdot \\frac{Az}{z_i}$\n",
    "\n",
    "$\\qquad = \\Sigma_{k=1}^{n} \\frac{\\partial f(Az)}{\\partial (Az)_k} \\cdot \\frac{\\partial (Az)_k}{\\partial z_i}$\n",
    "\n",
    "$\\qquad = \\Sigma_{k=1}^{n} \\frac{\\partial f(Az)}{\\partial (Az)_k} \\cdot A_{ki}$\n",
    "\n",
    "$\\qquad = A^T_{:i} \\cdot \\nabla_{Az}f(Az)$\n",
    "\n",
    "So, $\\nabla_zg(z) = \\begin{bmatrix} A^T_{:1} \\cdot \\nabla_{Az}f(Az)\\\\ \\vdots \\\\ A^T_{:n} \\cdot \\nabla_{Az}f(Az)\\end{bmatrix}$\n",
    "\n",
    "$\\qquad = A^T\\nabla_{Az}f(Az)$\n",
    "\n",
    "2. Suppose $g(z) \\equiv f(Az)$, A is an nxn matrix and z is nx1 vector\n",
    "\n",
    "then $H_{g(z)} = A^T H_{f(Az)} A$\n",
    "\n",
    "$(H_{g(z)})_{ij} = \\frac{\\partial^2 g(z)}{\\partial z_i \\partial z_j} = \\Sigma_{k=1}^{n}\\Sigma_{l=1}^{n} \\frac{\\partial f(Az)}{\\partial (Az)_k \\partial (Az)_l} \\cdot \\frac{\\partial (Az)_k}{\\partial z_i}\\frac{\\partial (Az)_l}{\\partial z_j}$\n",
    "\n",
    "$\\qquad = \\Sigma_{k=1}^{n}\\Sigma_{l=1}^{n} \\frac{\\partial f(Az)}{\\partial (Az)_k \\partial (Az)_l} \\cdot A_{ki} A_{lj}$\n",
    "\n",
    "$\\qquad = A^T_{:i} H_{f(Az)} A_{:j} = (A^T H_{f(Az)} A)_{ij}$\n",
    "\n",
    "Return to the question,\n",
    "\n",
    "$z^{(i+1)}:= z^{(i)} - H_{g(z)}^{-1}\\nabla_z g(z)$\n",
    "\n",
    "$\\qquad = z^{(i)} - (A^T H_{f(Az)} A)^{-1} A^T \\nabla_{Az} f(Az)$\n",
    "\n",
    "$\\qquad = z^{(i)} - A^{-1}H_{f(Az)}^{-1} A^{-T} A^T \\nabla_{Az} f(Az)$\n",
    "\n",
    "$\\qquad = z^{(i)} - A^{-1}H_{f(Az)}^{-1} \\nabla_{Az} f(Az)$\n",
    "\n",
    "multiply A \n",
    "\n",
    "$Az^{(i+1)} = Az^{(i)} - H_{f(Az)}^{-1} \\nabla_{Az} f(Az)$\n",
    "\n",
    "Suppose $z^{(i)} = A^{-1}x^{(i)}$\n",
    "\n",
    "then we know $x^{(i+1)} = Az^{(i+1)} =  Az^{(i)} - H_{f(Az)}^{-1} \\nabla_{Az} f(Az) = x^{(i)} - H_{f(x)}^{-1} \\nabla_{x} f(x)$"
   ]
  },
  {
   "cell_type": "markdown",
   "metadata": {},
   "source": [
    "## (b)\n",
    "From gradient descent rule, we know that\n",
    "\n",
    "$z^{(i+1)} = z^{(i)} - \\alpha \\nabla_z g(z)$\n",
    "\n",
    "$\\qquad= z^{(i)} - \\alpha \\cdot A^T \\nabla_{Az}f(Az)$\n",
    "\n",
    "multiply A, \n",
    "\n",
    "$Az^{(i+1)}= Az^{(i)} - \\alpha \\cdot A A^T \\nabla_{Az}f(Az)$\n",
    "\n",
    "$x^{(i+1)}= x^{(i)} - \\alpha \\cdot A A^T \\nabla_{x}f(x)$\n",
    "\n",
    "So, the gradient descent will be invariant if and only if $A^T = A^{-1}$, which implies A is orthogonal."
   ]
  }
 ],
 "metadata": {
  "kernelspec": {
   "display_name": "Python 3",
   "language": "python",
   "name": "python3"
  },
  "language_info": {
   "codemirror_mode": {
    "name": "ipython",
    "version": 3
   },
   "file_extension": ".py",
   "mimetype": "text/x-python",
   "name": "python",
   "nbconvert_exporter": "python",
   "pygments_lexer": "ipython3",
   "version": "3.7.2"
  }
 },
 "nbformat": 4,
 "nbformat_minor": 2
}
