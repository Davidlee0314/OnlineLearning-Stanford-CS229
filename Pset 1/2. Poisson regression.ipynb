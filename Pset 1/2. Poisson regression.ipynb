{
 "cells": [
  {
   "cell_type": "markdown",
   "metadata": {},
   "source": [
    "# Poisson regression\n",
    "## (a)\n",
    "\n",
    "$p(y;\\lambda) = \\frac{1}{y!} exp\\{ \\log e^{-\\lambda} + \\log \\lambda^y \\}$\n",
    "\n",
    "$ \\qquad \\quad = \\frac{1}{y!} exp\\{ y \\cdot \\log \\lambda - \\lambda\\}$\n",
    "\n",
    "$ T(y) = y, \\quad b(y) = \\frac{1}{y!}, \\quad \\eta = \\log \\lambda \\Rightarrow e^\\eta = \\lambda, \\quad a(\\eta) = \\lambda = e^\\eta$"
   ]
  },
  {
   "cell_type": "markdown",
   "metadata": {},
   "source": [
    "## (b)\n",
    "$g(\\eta) = E[T(y); \\eta] = e^\\eta = e^{\\theta^Tx}$"
   ]
  },
  {
   "cell_type": "markdown",
   "metadata": {},
   "source": [
    "## (c) \n",
    "$l(\\theta) = \\log p(y^{(i)} \\mid x^{(i)}; \\lambda)$\n",
    "\n",
    "$\\qquad = \\log \\frac{1}{y^{(i)}!} + \\log \\lambda \\cdot y^{(i)} - \\lambda$\n",
    "\n",
    "$\\qquad = \\log \\frac{1}{y^{(i)}!} + \\eta \\cdot y^{(i)} - e^\\eta$\n",
    "\n",
    "$\\qquad = \\log \\frac{1}{y^{(i)}!} + y^{(i)} \\theta^T x^{(i)} - e^{\\theta^T x^{(i)}}$\n",
    "\n",
    "$\\frac{\\partial l(\\theta)}{\\partial \\theta_j} = y^{(i)}\\cdot x^{(i)}_j - x^{(i)}_j e^{\\theta^T x^{(i)}}$ \n",
    "\n",
    "$\\qquad = x_j(y^{(i)} - e^{\\theta^T x^{(i)}})$\n",
    "\n",
    "Therefore, $\\theta_j := \\theta_j + a(x_j(y^{(i)} - e^{\\theta^T x^{(i)}}))$"
   ]
  },
  {
   "cell_type": "markdown",
   "metadata": {},
   "source": [
    "## (d)\n",
    "\n",
    "$\\frac{\\partial l(\\theta)}{\\partial \\theta_i} = y \\cdot \\frac{\\partial \\eta}{\\partial \\theta_i} - \\frac{\\partial a(\\eta)}{\\partial \\eta} \\cdot \\frac{\\partial \\eta}{\\theta_i}$\n",
    "\n",
    "$\\qquad = y \\cdot x_i - \\frac{\\partial a(\\eta)}{\\partial \\eta} \\cdot x_i$\n",
    "\n",
    "we have to solve $\\frac{\\partial a(\\eta)}{\\partial \\eta}$ ,\n",
    "\n",
    "$h(x) = E[y \\mid x; \\eta]$\n",
    "\n",
    "$\\int_y p(y ; \\eta) dy = 1 \\Rightarrow \\frac{d}{d\\eta}\\int_y p(y;\\eta)dy = 0 \\Rightarrow \\int_y \\frac{d}{d\\eta}p(y;\\eta)dy = 0$ \n",
    "\n",
    "$\\qquad\\qquad\\qquad \\Rightarrow \\int_y b(y)exp\\{\\eta y - a(\\eta)\\}(y - \\frac{da(\\eta)}{d\\eta})dy = 0$\n",
    "\n",
    "$\\qquad\\qquad\\qquad \\Rightarrow \\int_y p(y;\\eta)\\cdot y dy - \\int_y p(y;\\eta)\\cdot \\frac{da(\\eta)}{d\\eta} dy = 0$\n",
    "\n",
    "$\\qquad\\qquad\\qquad \\Rightarrow h(x) - \\frac{da(\\eta)}{d\\eta} = 0$\n",
    "\n",
    "$\\qquad\\qquad\\qquad \\Rightarrow h(x) = \\frac{da(\\eta)}{d\\eta}$\n",
    "\n",
    "$\\frac{\\partial l(\\theta)}{\\partial \\theta_j} = (y- h(x))\\cdot x_j$\n",
    "\n",
    "$\\theta_j := \\theta_j - a(h(x) - y)\\cdot x_j$"
   ]
  }
 ],
 "metadata": {
  "kernelspec": {
   "display_name": "Python 3",
   "language": "python",
   "name": "python3"
  },
  "language_info": {
   "codemirror_mode": {
    "name": "ipython",
    "version": 3
   },
   "file_extension": ".py",
   "mimetype": "text/x-python",
   "name": "python",
   "nbconvert_exporter": "python",
   "pygments_lexer": "ipython3",
   "version": "3.7.2"
  }
 },
 "nbformat": 4,
 "nbformat_minor": 2
}
