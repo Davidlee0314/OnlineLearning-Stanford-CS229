{
 "cells": [
  {
   "cell_type": "markdown",
   "metadata": {},
   "source": [
    "# Gaussian discriminant analysis\n",
    "* * *\n",
    "## (a)\n",
    "\n",
    "### $p(y \\mid x; \\phi, \\Sigma, \\mu_1, \\mu_{-1}) = \\frac{p(x\\mid y)p(y)}{p(x)}$\n",
    "### $\\qquad \\qquad \\qquad \\qquad = \\frac{p(x\\mid y)p(y)}{p(x\\mid y=1)p(y=1)p(x\\mid y=-1)p(y=-1)}$\n",
    "### $\\text{Let A } = \\frac{1}{(2\\pi)^{n/2} |\\Sigma|^{1/2}}, \\text{ B }= -\\frac{1}{2}(x-\\mu_1)^T \\Sigma^{-1}(x-\\mu_1), \\text{ C }=-\\frac{1}{2}(x-\\mu_{-1})^T \\Sigma^{-1}(x-\\mu_{-1})$\n",
    "\n",
    "### when y = 1\n",
    "### $p(y=1\\mid x) = \\frac{Ae^C\\phi}{Ae^C\\phi + Ae^B(1-\\phi)} = \\frac{1}{1 + e^{B-C + \\ln \\frac{1-\\phi}{\\phi}}}\n",
    "= \\frac{1}{1 + e^{-y (C-B +\\ln  \\frac{\\phi}{1-\\phi})}}$\n",
    "\n",
    "### when y = -1\n",
    "### $p(y=-1\\mid x) = \\frac{Ae^B(1-\\phi)}{Ae^C\\phi + Ae^B(1-\\phi)} = \\frac{1}{1 + e^{C-B+\\ln\\frac{\\phi}{1-\\phi}}}\n",
    "= \\frac{1}{1 + e^{-y (C-B+ \\ln\\frac{\\phi}{1-\\phi})}}$\n",
    "### $\\Rightarrow p(y \\mid x) = \\frac{1}{1 + e^{-y (C-B +\\ln\\frac{\\phi}{1-\\phi})}}$\n",
    "\n",
    "### $C-B + \\ln \\frac{\\phi}{1-\\phi} = - \\frac{1}{2}(x - \\mu_1)^T\\Sigma^{-1}(x - \\mu_1) + \\frac{1}{2}(x - \\mu_{-1})^T\\Sigma^{-1}(x - \\mu_{-1}) + \\ln\\frac{\\phi}{1-\\phi}$\n",
    "### $\\qquad\\qquad\\qquad =  -\\frac{1}{2}\\Sigma^{-1} [(x^T - \\mu_1^T)(x-\\mu_1) + (x^T - \\mu_{-1}^T)(x-\\mu_{-1})] + \\ln\\frac{\\phi}{1-\\phi}$\n",
    "### $\\qquad\\qquad\\qquad = -\\frac{1}{2}\\Sigma^{-1}(2\\mu_{-1}^Tx - 2\\mu_{1}^Tx + \\mu_1^T\\mu_{1}- \\mu_{-1}^T\\mu_{-1}) + \\ln\\frac{\\phi}{1-\\phi}$\n",
    "### $\\qquad\\qquad\\qquad = (\\mu_1 - \\mu_{-1})^T \\Sigma^{-1}x - \\frac{1}{2}\\Sigma^{-1}(\\mu_1^T\\mu_{1}- \\mu_{-1}^T\\mu_{-1})+ \\ln\\frac{\\phi}{1-\\phi}$\n",
    "### $\\Rightarrow \\theta^T = (\\mu_1 - \\mu_{-1})^T \\Sigma^{-1}, \\theta_0 =  - \\frac{1}{2}\\Sigma^{-1}(\\mu_1^T\\mu_{1}- \\mu_{-1}^T\\mu_{-1})+ \\ln\\frac{\\phi}{1-\\phi}$"
   ]
  },
  {
   "cell_type": "markdown",
   "metadata": {},
   "source": [
    "* * *\n",
    "## (b)\n",
    "#### If x is one-dimensional, \n",
    "### $p(y) = \\begin{cases}\n",
    "\\phi \\qquad \\quad if \\quad y = 1 \\\\\n",
    "1-\\phi \\hspace{1cm} if\\quad y = -1\n",
    "\\end{cases}$\n",
    "### $p(x\\mid y =1) = \\frac{1}{\\sqrt{2\\pi\\sigma^2}} exp\\{- \\frac{1}{2\\sigma^2}(x-\\mu_1)^2\\}$\n",
    "### $p(x\\mid y =-1) = \\frac{1}{\\sqrt{2\\pi\\sigma^2}} exp\\{- \\frac{1}{2\\sigma^2}(x-\\mu_{-1})^2\\}$\n",
    "### $\\text{let } m = m_{1} + m_{-1} $\n",
    "### $l(\\phi, \\mu_1, \\mu_{-1}, \\Sigma) = \\log \\Big[ \\Big(\\Pi_{i=1}^{m_1} \\frac {\\phi}{\\sqrt{2\\pi\\sigma^2}}exp\\{- \\frac{1}{2\\sigma^2}(x^{(i)}-\\mu_1)^2\\}\\Big)\\Big(\\Pi_{j=1}^{m_{-1}} \\frac {1-\\phi}{\\sqrt{2\\pi\\sigma^2}}exp\\{- \\frac{1}{2\\sigma^2}(x^{(j)}-\\mu_{-1})^2\\}\\Big)\\Big]$\n",
    "### $\\qquad \\qquad\\qquad= -\\frac{m}{2}\\log(2\\pi\\sigma^2) - \\Sigma_{i=1}^{m_1} \\frac {1}{2\\sigma^2}(x^{(i)}-\\mu_1)^2 - \\Sigma_{j=1}^{m_{-1}} \\frac {1}{2\\sigma^2}(x^{(j)}-\\mu_{-1})^2 + m_1\\log\\phi + m_{-1}\\log1-\\phi$\n",
    "### Calculate for parameters with maximum likelihood function\n",
    "### $\\text{let } \\frac{ \\partial l(\\phi, \\mu_1, \\mu_{-1}, \\Sigma)}{\\partial \\phi} = 0$\n",
    "### $\\Rightarrow \\frac{m_1}{\\phi} - \\frac{m_{-1}}{1-\\phi} = 0$\n",
    "### $\\Rightarrow \\frac{m_1(1-\\phi) - m_{-1}\\phi}{\\phi(1-\\phi)}$\n",
    "### $\\Rightarrow m_1 - m\\phi = 0 \\Rightarrow \\phi = \\frac{m_1}{m} = \\frac{1}{m} \\Sigma_{i=1}^m1\\{y^{(i)} = 1\\}$\n",
    "### $\\text{let } \\frac{ \\partial l(\\phi, \\mu_1, \\mu_{-1}, \\Sigma)}{\\partial \\mu_1} = 0$\n",
    "### $\\frac{1}{\\sigma^2}\\Sigma_{i=1}^{m_1}(x^{(i)} - \\mu_1) = 0$\n",
    "### $\\Rightarrow \\Sigma_{i=1}^{m_1} x^{(i)} = \\Sigma_{i=1}^{m_1} \\mu_1$\n",
    "### $\\Rightarrow \\mu_1 = \\frac {\\Sigma_{i=1}^{m_1}1\\{y^{(i)} = 1\\}x^{(i)}}{\\Sigma_{i=1}^{m_1}1\\{y^{(i)} = 1\\}}$\n",
    "### $\\Rightarrow \\mu_{-1} = \\frac {\\Sigma_{j=1}^{m_{-1}}1\\{y^{(j)} = 1\\}x^{(j)}}{\\Sigma_{j=1}^{m_{-1}}1\\{y^{(j)} = 1\\}}$\n",
    "### $\\text{let } \\frac{ \\partial l(\\phi, \\mu_1, \\mu_{-1}, \\Sigma)}{\\partial \\sigma^2} = 0$\n",
    "### $\\Rightarrow -\\frac{m}{2} \\cdot \\frac{1}{2\\pi\\sigma^2} \\cdot 2\\pi + \\Sigma_{i=1}^{m_1} \\frac{(x^{(i)} - \\mu_1)^2}{2\\sigma^4}+\\Sigma_{j=1}^{m_{-1}} \\frac{(x^{(j)} - \\mu_{-1})^2}{2\\sigma^4} = 0$\n",
    "### $\\Rightarrow m\\sigma^2 = \\Sigma_{i=1}^{m_1} (x^{(i)} - \\mu_1)^2+\\Sigma_{j=1}^{m_{-1}} (x^{(j)} - \\mu_{-1})^2 = \\Sigma_{i=1}^{m_1}(x^{(i)} - \\mu_{y^{(i)}})^2$\n",
    "### $\\Rightarrow \\sigma^2 = \\frac{1}{m}\\Sigma_{i=1}^{m_1}(x^{(i)} - \\mu_{y^{(i)}})^2$"
   ]
  },
  {
   "cell_type": "markdown",
   "metadata": {},
   "source": [
    "* * *\n",
    "### (c)\n",
    "### First, prove theorem $\\nabla_x x^TAx = 2Ax$\n",
    "### $\\nabla_x x^TAx = \\frac {\\partial \\Sigma_{i=1}^n \\Sigma_{j=1}^n A_{ij} x_i x_j}{\\partial x_k} = \\Sigma_{i\\neq k}^n A_{ik} x_k + \\Sigma_{j\\neq k}^n A_{kj} x_k + 2A_{kk}x_k$\n",
    "### $\\hspace{6cm}= 2\\Sigma_{j \\neq k}^n A_{jk}xk + 2A_{kk}x_k$\n",
    "### $\\hspace{6cm}= 2\\Sigma_{j = 1}^n A_{jk}xk = 2Ax$\n",
    "### $l(\\phi, \\mu_1, \\mu_{-1}, \\Sigma) = m_1\\log\\phi + m_{-1}\\log(1-\\phi) - \\frac{mn}{2}\\log(2\\pi) - \\frac{m}{2}\\log(|\\Sigma|) - \\Sigma_{i=1}^{m_{-1}}\\frac{1}{2}(x^{(i)}-\\mu_{-1})^T\\Sigma^{-1}(x^{(i)}-\\mu_{-1})- \\Sigma_{j=1}^{m_{1}}\\frac{1}{2}(x^{(j)}-\\mu_{1})^T\\Sigma^{-1}(x^{(j)}-\\mu_{1})$\n",
    "\n",
    "### $\\nabla_{\\mu_1} l = \\Sigma_{i=1}^{m_1} \\frac{1}{2} \\cdot 2 \\cdot (-1) \\cdot (x^{(i)}-\\mu_{1})$\n",
    "### set it to 0, \n",
    "### $\\mu_1 = \\frac{\\Sigma_{i=1}^{m}1\\{y^{(i)}=1\\}x^{(i)}}{\\Sigma_{i=1}^{m}1\\{y^{(i)}=1\\}}$\n",
    "### $\\mu_{-1} = \\frac{\\Sigma_{i=1}^{m}1\\{y^{(i)}=-1\\}x^{(i)}}{\\Sigma_{i=1}^{m}1\\{y^{(i)}=-1\\}}$\n",
    "\n",
    "### to calculate $\\frac{\\partial l(\\phi, \\mu_1, \\mu_{-1}, \\Sigma)}{\\partial\\Sigma}$, we need two formula to help,\n",
    "### $\\text{1. } \\nabla_A \\log|A|= \\frac{\\partial \\log|A|}{\\partial A_{ij}} = \n",
    " \\frac{\\partial \\log|A|}{\\partial |A|} \\cdot  \\frac{\\partial |A|}{\\partial A_{ij}} $\n",
    "### $\\hspace{3cm}=\\frac{1}{|A|}\\nabla_A|A| = A^{-1}$\n",
    "### $\\text{2. } \\nabla_A x^TAx = \\frac{\\partial \\Sigma_{i=1}^{n}\\Sigma_{j=1}^{n} A_{ij}x_ix_j}{\\partial A_{kl}} = x_kx_l = xx^T$\n",
    "### $\\nabla_{\\Sigma^{-1}}-\\frac{m}{2}\\log(|\\Sigma|) = \\frac{m}{2}\\log(|\\Sigma^{-1}|) = \\frac{m}{2}\\cdot\\Sigma$\n",
    "### $\\nabla_{\\Sigma^{-1}}\\Big(\\Sigma_{i=1}^{m_{-1}}\\frac{1}{2}(x^{(i)}-\\mu_{-1})^T\\Sigma^{-1}(x^{(i)}-\\mu_{-1})- \\Sigma_{j=1}^{m_{1}}\\frac{1}{2}(x^{(j)}-\\mu_{1})^T\\Sigma^{-1}(x^{(j)}-\\mu_{1})\\Big)$\n",
    "### $= \\frac{1}{2}\\Big[\\Sigma_{j=1}^{m_{1}}(x^{(j)}-\\mu_{1})(x^{(j)}-\\mu_{1})^T\\Sigma_{i=1}^{m_{-1}}(x^{(i)}-\\mu_{-1})(x^{(i)}-\\mu_{-1})^T\\Big]$\n",
    "### $=\\frac{1}{2} \\Sigma_{i=1}^{m}(x^{(i)}-\\mu_{y(i)})(x^{(i)}-\\mu_{y(i)})^T$\n",
    "### set it to 0, \n",
    "### $\\Sigma = \\frac{1}{m}\\Sigma_{i=1}^{m}(x^{(i)}-\\mu_{y(i)})(x^{(i)}-\\mu_{y(i)})^T $"
   ]
  },
  {
   "cell_type": "code",
   "execution_count": null,
   "metadata": {},
   "outputs": [],
   "source": []
  }
 ],
 "metadata": {
  "kernelspec": {
   "display_name": "Python 3",
   "language": "python",
   "name": "python3"
  },
  "language_info": {
   "codemirror_mode": {
    "name": "ipython",
    "version": 3
   },
   "file_extension": ".py",
   "mimetype": "text/x-python",
   "name": "python",
   "nbconvert_exporter": "python",
   "pygments_lexer": "ipython3",
   "version": "3.7.2"
  }
 },
 "nbformat": 4,
 "nbformat_minor": 2
}
