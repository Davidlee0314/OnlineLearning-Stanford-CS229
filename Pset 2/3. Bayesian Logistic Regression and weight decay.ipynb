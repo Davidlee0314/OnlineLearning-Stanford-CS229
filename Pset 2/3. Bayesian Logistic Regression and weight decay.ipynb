{
 "cells": [
  {
   "cell_type": "markdown",
   "metadata": {},
   "source": [
    "## 3. Bayesian Logistic Regression and weight decay\n",
    "\n",
    "Suppose $||\\theta_{MLE}||^2 < ||\\theta_{MAP}||^2$\n",
    "\n",
    "Since $\\theta$ follows a prior normal distribution, $P(\\theta_{MLE}) > P(\\theta_{MAP}) $\n",
    "\n",
    "Multiply by $\\Pi_{i=1}^m p(y^{(i)}|x^{(i)};\\theta_{MAP})$ together\n",
    "\n",
    "Then, $P(\\theta_{MLE})\\Pi_{i=1}^m p(y^{(i)}|x^{(i)};\\theta_{MLE}) > P(\\theta_{MLE})\\Pi_{i=1}^m p(y^{(i)}|x^{(i)};\\theta_{MAP}) > P(\\theta_{MAP})\\Pi_{i=1}^m p(y^{(i)}|x^{(i)};\\theta_{MAP}) $\n",
    "\n",
    "It contradict to the truth that $\\theta_{MAP}$ maximize $P(\\theta)\\Pi_{i=1}^m p(y^{(i)}|x^{(i)};\\theta)$"
   ]
  }
 ],
 "metadata": {
  "kernelspec": {
   "display_name": "Python 3",
   "language": "python",
   "name": "python3"
  },
  "language_info": {
   "codemirror_mode": {
    "name": "ipython",
    "version": 3
   },
   "file_extension": ".py",
   "mimetype": "text/x-python",
   "name": "python",
   "nbconvert_exporter": "python",
   "pygments_lexer": "ipython3",
   "version": "3.7.2"
  }
 },
 "nbformat": 4,
 "nbformat_minor": 2
}
