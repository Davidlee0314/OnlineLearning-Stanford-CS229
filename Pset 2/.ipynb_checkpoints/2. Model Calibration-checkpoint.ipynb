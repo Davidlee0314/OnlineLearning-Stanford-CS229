{
 "cells": [
  {
   "cell_type": "markdown",
   "metadata": {},
   "source": [
    "## 2.\n",
    "### (a)\n",
    "\n",
    "from the gradinet descent applying on logistic regression, we know that\n",
    "\n",
    "$X^T(Y - h_\\theta(X)) = 0$, where X is mx(n+1) matrix and Y is mx1 matrix\n",
    "\n",
    "$X^T(Y - h_\\theta(X)) = \\begin{bmatrix} 1 \\cdots 1 \\\\ x^{(1)}_0 \\cdots x^{(i)}_0 \\\\ \\vdots \\end{bmatrix} (Y - h_\\theta(X))$\n",
    "\n",
    "$\\rightarrow \\Sigma_{i=1}^m (y^{(i)} - h_\\theta(x^{(i)})) = 0$\n",
    "\n",
    "Also, $|{i \\in I_{a, b}}| = m$, since $ \\forall i \\quad h_\\theta(x^{(i)}) \\in (0, 1)$"
   ]
  },
  {
   "cell_type": "markdown",
   "metadata": {},
   "source": [
    "## (b)\n",
    "- if a model is perfectly calibrated, all we can say is that this model match with empirical observation.\n",
    "- if the accuracy is perfect, then the model will definitely be calibrated."
   ]
  },
  {
   "cell_type": "markdown",
   "metadata": {},
   "source": [
    "### (c)\n",
    "Suppose the penalty is $\\lambda$, the new objective function is\n",
    "\n",
    "$\\Sigma_{i=1}^m(y^{(i)}h_\\theta(x^{(i)}) + (1 - y^{(i)})(1 - h_\\theta(x^{(i)}))) + \\lambda ||\\theta||^2$\n",
    "\n",
    "$\\forall j$ Calculate the derivatives with respect to $ \\theta_j$\n",
    "\n",
    "$X^T(Y - h_\\theta(X)) + 2\\lambda\\theta = 0$\n",
    "\n",
    "$\\rightarrow \\Sigma_{i=1}^m (y^{(i)} - h_\\theta(x^{(i)})) + 2\\lambda \\theta_0 = 0$\n",
    "\n",
    "Therefore, $\\Sigma_{i=1}^m h_\\theta(x) = \\Sigma_{i=1}^m y^{(i)} + 2\\lambda \\theta_0$, the prediction will be biased by $2\\lambda \\theta_0$"
   ]
  }
 ],
 "metadata": {
  "kernelspec": {
   "display_name": "Python 3",
   "language": "python",
   "name": "python3"
  },
  "language_info": {
   "codemirror_mode": {
    "name": "ipython",
    "version": 3
   },
   "file_extension": ".py",
   "mimetype": "text/x-python",
   "name": "python",
   "nbconvert_exporter": "python",
   "pygments_lexer": "ipython3",
   "version": "3.7.2"
  }
 },
 "nbformat": 4,
 "nbformat_minor": 2
}
