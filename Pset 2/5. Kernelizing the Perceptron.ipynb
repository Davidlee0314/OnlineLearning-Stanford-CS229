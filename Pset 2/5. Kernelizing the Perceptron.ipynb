{
 "cells": [
  {
   "cell_type": "markdown",
   "metadata": {},
   "source": [
    "# 5.Kernelizing the Perceptron\n",
    "\n",
    "## (a)\n",
    "\n",
    "We can't write $\\theta^{(i)}$, so we use $K(\\theta^{(i)}, \\phi(x^{(i)}))$ to repsresent it.\n",
    "\n",
    "## (b)\n",
    "\n",
    "$h_{\\theta^{(i)}}(x^{(i + 1)}) = g(\\theta^{{(i)}^T}\\phi(x^{(i + 1)})) = g(K(\\theta^{(i)}, \\phi(x^{(i)})))$\n",
    "\n",
    "## (c)\n",
    "\n",
    "Using the new kernel, the update rule becomes,\n",
    "\n",
    "$\\theta^{(i+1)} := \\theta^{(i)} + \\alpha y^{(i+1)} \\phi(x^{(i + 1)}) 1\\{g(\\theta^{{(i)}^T}\\phi(x^{(i + 1)})) y^{(i+1)} < 0\\}$\n",
    "\n",
    "inner product with $\\phi(x^{(i + 1)})$\n",
    "\n",
    "$K(\\theta^{(i+1)}, \\phi(x^{(i+1)})) := K(\\theta^{(i)}, \\phi(x^{(i +1)})) + \\alpha y^{(i+1)}K(\\phi(x^{(i + 1)}), \\phi(x^{(i + 1)}))  1\\{g(K(\\theta^{(i)}, \\phi(x^{(i + 1)}))) y^{(i+1)} < 0\\}$"
   ]
  }
 ],
 "metadata": {
  "kernelspec": {
   "display_name": "Python 3",
   "language": "python",
   "name": "python3"
  },
  "language_info": {
   "codemirror_mode": {
    "name": "ipython",
    "version": 3
   },
   "file_extension": ".py",
   "mimetype": "text/x-python",
   "name": "python",
   "nbconvert_exporter": "python",
   "pygments_lexer": "ipython3",
   "version": "3.7.2"
  }
 },
 "nbformat": 4,
 "nbformat_minor": 2
}
