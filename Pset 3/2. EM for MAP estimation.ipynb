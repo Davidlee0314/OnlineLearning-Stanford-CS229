{
 "cells": [
  {
   "cell_type": "markdown",
   "metadata": {},
   "source": [
    "# 2. EM for MAP estimation\n",
    "\n",
    "$l_{MAP}(\\theta) = \\Sigma_{i = 1}^{m}\\log(\\Sigma_{z^{(i)}}p(x^{(i)}, z^{(i)}| \\theta)) + \\log p(\\theta)$\n",
    "\n",
    "$\\quad\\quad\\quad = \\Sigma_{i = 1}^{m} \\log(\\Sigma_{z^{(i)}} Q(z^{(i)}) \\frac{p(x^{(i)}, z^{(i)}| \\theta)}{Q(z^{(i)})}) + \\log p(\\theta)$\n",
    "\n",
    "(From Jensen's inequality)\n",
    "\n",
    "$\\quad\\quad\\quad \\geq \\Sigma_{i = 1}^{m} \\Sigma_{z^{(i)}} Q(z^{(i)}) \\log(\\frac{p(x^{(i)}, z^{(i)}| \\theta)}{Q(z^{(i)})}) + \\log p(\\theta)$\n",
    "\n",
    "In the E-step, we gonna let the bound tight, so\n",
    "\n",
    "$\\frac{p(x^{(i)}, z^{(i)}| \\theta)}{Q(z^{(i)})} = constant$\n",
    "\n",
    "Imply that $Q(z^{(i)}) \\propto p(x^{(i)}, z^{(i)}| \\theta)$\n",
    "\n",
    "$ Q(z^{(i)}) = \\frac{p(x^{(i)}, z^{(i)}| \\theta)}{\\Sigma_{z^{(i)}}p(x^{(i)}, z^{(i)}|\\theta)} = \\frac{p(x^{(i)}, z^{(i)}| \\theta)}{p(x^{(i)}| \\theta)} = p(z^{(i)}|x^{(i)},  \\theta)$\n",
    "\n",
    "Therefore, \n",
    "- In the E-step\n",
    "\n",
    "    we set $Q(z^{(i)})^{t} := p(z^{(i)}|x^{(i)},  \\theta^{t})$\n",
    "\n",
    "\n",
    "- In the M-step \n",
    "\n",
    "    find $ \\theta^{t+1} := argmax_\\theta \\Sigma_{i = 1}^{m} \\Sigma_{z^{(i)}} Q(z^{(i)})^{t} \\log(\\frac{p(x^{(i)}, z^{(i)}| \\theta^{t})}{Q(z^{(i)})^{t}}) + \\log p(\\theta^{t})$\n",
    "    \n",
    "    \n",
    "Now we try to prove the function is monotically increasing\n",
    "\n",
    "(from the equation above)\n",
    "\n",
    "$l_{MAP}(\\theta^{t+1}) \\quad \\geq \\quad \\Sigma_{i = 1}^{m} \\Sigma_{z^{(i)}} Q(z^{(i)})^{t} \\log(\\frac{p(x^{(i)}, z^{(i)}| \\theta^{t + 1})}{Q(z^{(i)})^{t}}) + \\log p(\\theta^{t + 1})$\n",
    "\n",
    "(Since $\\theta^{t+1}$ is the optimized result)\n",
    "\n",
    "$\\qquad\\qquad \\quad \\geq \\quad \\Sigma_{i = 1}^{m} \\Sigma_{z^{(i)}} Q(z^{(i)})^{t} \\log(\\frac{p(x^{(i)}, z^{(i)}| \\theta^{t})}{Q(z^{(i)})^{t}}) + \\log p(\\theta^{t})$\n",
    "\n",
    "$\\qquad\\qquad \\quad = \\quad l_{MAP}(\\theta^{t})$"
   ]
  }
 ],
 "metadata": {
  "kernelspec": {
   "display_name": "Python 3",
   "language": "python",
   "name": "python3"
  },
  "language_info": {
   "codemirror_mode": {
    "name": "ipython",
    "version": 3
   },
   "file_extension": ".py",
   "mimetype": "text/x-python",
   "name": "python",
   "nbconvert_exporter": "python",
   "pygments_lexer": "ipython3",
   "version": "3.7.2"
  }
 },
 "nbformat": 4,
 "nbformat_minor": 2
}
