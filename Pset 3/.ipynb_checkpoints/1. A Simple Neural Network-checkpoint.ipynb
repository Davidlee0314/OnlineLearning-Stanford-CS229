{
 "cells": [
  {
   "cell_type": "markdown",
   "metadata": {},
   "source": [
    "# 1. A Simple Neural Network\n",
    "\n",
    "## (a)\n",
    "\n",
    "Let $z^o, z^{h} $ be the output of output layer and hidden layer\n",
    "\n",
    "if $o = g(z)$ is sigmoid function, then $\\frac{\\partial g(z)}{\\partial z} = g(z)(1 - g(z)) = o(1-o)$\n",
    "\n",
    "$\\frac{\\partial l}{\\partial w_{1, 2}^{[1]}} = \\frac{\\partial l}{\\partial o^{(i)}}\\frac{\\partial o^{(i)}}{\\partial z^o} \\frac{\\partial z^o}{\\partial h_2} \\frac{\\partial h_2}{\\partial z^{h}} \\frac{\\partial z^{h}}{\\partial w_{1, 2}^{[1]}}$\n",
    "\n",
    "$\\qquad = \\frac {1}{m} \\Sigma_{i=1}^{m} 2(o^{(i)} - y ^{(i)})o^{(i)}(1-o^{(i)})w_2^{[2]} h_2 (1-h_2)x_1^{(i)}$\n",
    "\n",
    "Therefore, we can update as $w_{1, 2}^{[1]^{t+1}} := w_{1, 2}^{[1]^{t}} + \\alpha \\frac{\\partial l}{\\partial w_{1, 2}^{[1]}}$"
   ]
  },
  {
   "cell_type": "markdown",
   "metadata": {},
   "source": [
    "## (b)\n",
    "\n",
    "let $W_{1} = \\begin{bmatrix} -1 \\quad 4 \\quad 0 \\\\ -1 \\quad 0 \\quad 4 \\\\ 4.2 \\quad  -1 \\quad -1 \\end{bmatrix}$\n",
    "\n",
    "Therefore, if the data is within the triangle, then $f(W_{1}x^{(i)}) = \\begin{bmatrix} 1\\\\1\\\\1 \\end{bmatrix}$. Otherwise, the vector will contain zero.\n",
    "\n",
    "let $ W_{2} = \\begin{bmatrix} 2.5 \\quad -1 \\quad -1 \\quad -1\\end{bmatrix}$, then only with $f(W_{1}x^{(i)})$ all ones it will output label $0$"
   ]
  },
  {
   "cell_type": "markdown",
   "metadata": {},
   "source": [
    "## (c)\n",
    "No, it'll need to be linear separable if you are using linear activation function.\n",
    "\n",
    "$o = f(W_2z^{h}) = W_2z^{h} = W_2f(W_1x^{(i)}) =  W_2W_1x^{(i)}$\n",
    "\n",
    "Obviously, it's still a linear separator, so it can't separate the nonlinear dataset in the problem"
   ]
  }
 ],
 "metadata": {
  "kernelspec": {
   "display_name": "Python 3",
   "language": "python",
   "name": "python3"
  },
  "language_info": {
   "codemirror_mode": {
    "name": "ipython",
    "version": 3
   },
   "file_extension": ".py",
   "mimetype": "text/x-python",
   "name": "python",
   "nbconvert_exporter": "python",
   "pygments_lexer": "ipython3",
   "version": "3.7.2"
  }
 },
 "nbformat": 4,
 "nbformat_minor": 2
}
