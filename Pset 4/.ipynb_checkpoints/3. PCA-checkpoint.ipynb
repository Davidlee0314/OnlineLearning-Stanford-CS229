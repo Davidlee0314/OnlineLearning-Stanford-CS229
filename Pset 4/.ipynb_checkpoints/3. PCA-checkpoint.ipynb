{
 "cells": [
  {
   "cell_type": "markdown",
   "metadata": {},
   "source": [
    "# 3. PCA"
   ]
  },
  {
   "cell_type": "markdown",
   "metadata": {},
   "source": [
    "From the formula of vector projection, we know\n",
    "\n",
    "$ f_u(x) = (x^Tu)u$"
   ]
  },
  {
   "cell_type": "markdown",
   "metadata": {},
   "source": [
    "$argmin_u \\quad\\frac{1}{m}\\Sigma_{i=1}^{m}\n",
    "\\Big[\n",
    "(x^{(i)} - (x^{(i)^T}u)u)^T(x^{(i)} - (x^{(i)^T}u)u)\n",
    "\\Big]$\n",
    "\n",
    "$=argmin_u \\quad\\frac{1}{m}\\Sigma_{i=1}^{m}\n",
    "\\Big[\n",
    "x^{(i)^T}x^{(i)} - 2(u^Tx^{(i)})^2 + (u^Tx^{(i)})^2(u^Tu)\n",
    "\\Big]$\n",
    "\n",
    "$=argmin_u \\quad\\frac{1}{m}\\Sigma_{i=1}^{m}\n",
    "\\Big[\n",
    "x^{(i)^T}x^{(i)} - (u^Tx^{(i)})^2\n",
    "\\Big]$\n",
    "\n",
    "Since $x^{(i)^T}x^{(i)}$ is constant not relying on $u$, so it's equivalent to\n",
    "\n",
    "$argmax_u \\quad\\frac{1}{m}\\Sigma_{i=1}^{m}\n",
    "(u^Tx^{(i)})^2$\n",
    "\n",
    "$= argmax_u \\quad\\frac{1}{m}\\Sigma_{i=1}^{m}u^Tx^{(i)}x^{(i)^T}u$\n",
    "\n",
    "$= argmax_u \\quad u^T(\\frac{1}{m}\\Sigma_{i=1}^{m}x^{(i)}x^{(i)^T})u$\n",
    "\n",
    "Now, let $C = \\frac{1}{m}\\Sigma_{i=1}^{m}x^{(i)}x^{(i)^T}$, we can construct lagrange optimization problem\n",
    "\n",
    "Max  $\\qquad l(u, \\lambda) = u^TCu - \\lambda(u^Tu - 1)$\n",
    "\n",
    "$\\frac{\\partial l(u, \\lambda)}{\\partial u} = 0 \\Rightarrow Cu = \\lambda u$\n",
    "\n",
    "The argmax $u_m$ wil be $u^TCu = u^T\\lambda u = \\lambda$\n",
    "\n",
    "Therefore, searching for $u$ to maximize the function correspond to the eigen vector with the largest eigen value of $\\frac{1}{m}\\Sigma_{i=1}^{m}x^{(i)}x^{(i)^T}$"
   ]
  }
 ],
 "metadata": {
  "kernelspec": {
   "display_name": "Python [conda env:root] *",
   "language": "python",
   "name": "conda-root-py"
  },
  "language_info": {
   "codemirror_mode": {
    "name": "ipython",
    "version": 3
   },
   "file_extension": ".py",
   "mimetype": "text/x-python",
   "name": "python",
   "nbconvert_exporter": "python",
   "pygments_lexer": "ipython3",
   "version": "3.7.3"
  }
 },
 "nbformat": 4,
 "nbformat_minor": 2
}
