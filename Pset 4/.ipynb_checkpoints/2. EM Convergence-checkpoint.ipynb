{
 "cells": [
  {
   "cell_type": "markdown",
   "metadata": {},
   "source": [
    "# 2. EM Convergence"
   ]
  },
  {
   "cell_type": "markdown",
   "metadata": {},
   "source": [
    "We know that the convergence EM step will yield \n",
    "\n",
    "$ Q^*_i(x) = p(z^{(i)} \\mid x^{(i)}, \\theta^*)$\n",
    "\n",
    "and \n",
    "\n",
    "$ M = \\Sigma_{i}\\Sigma_{z^{(i)}}Q^*_i(x) \\log \\frac{p(x^{(i)}, z^{(i)} \\mid \\theta)}{Q^*_i(x)}$"
   ]
  },
  {
   "cell_type": "markdown",
   "metadata": {},
   "source": [
    "$ \\nabla_\\theta M = \\Sigma_{i}\\Sigma_{z^{(i)}}Q^*_i(x) \\nabla_\\theta\\log \\frac{p(x^{(i)}, z^{(i)} \\mid \\theta)}{Q^*_i(x)}$\n",
    "\n",
    "$\\qquad = \\Sigma_{i}\\Sigma_{z^{(i)}}Q^*_i(x)\\frac{Q^*_i(x)}{p(x^{(i)}, z^{(i)} \\mid \\theta)} \\cdot \\frac{1}{Q^*_i(x)} \\cdot\n",
    "\\nabla_\\theta{p(x^{(i)}, z^{(i)} \\mid \\theta)}$"
   ]
  },
  {
   "cell_type": "markdown",
   "metadata": {},
   "source": [
    "$\\nabla_{\\theta=\\theta^*}M = \\Sigma_{i}\\Sigma_{z^{(i)}}Q^*_i(x)\\frac{Q^*_i(x)}{p(x^{(i)}, z^{(i)} \\mid \\theta=\\theta^*)} \\cdot \\frac{1}{Q^*_i(x)} \\cdot\n",
    "\\nabla_\\theta{p(x^{(i)}, z^{(i)} \\mid \\theta=\\theta^*)}$\n",
    "\n",
    "$\\qquad\\qquad =\\Sigma_{i}\\Sigma_{z^{(i)}} p(z^{(i)} \\mid x^{(i)}, \\theta^*) \\cdot \\frac{\\nabla_\\theta{p(x^{(i)}, z^{(i)} \\mid \\theta=\\theta^*)}}{p(x^{(i)}, z^{(i)} \\mid \\theta=\\theta^*)}$\n",
    "\n",
    "$\\qquad \\qquad = \\Sigma_{i}\\Sigma_{z^{(i)}} \\frac{\\nabla_\\theta{p(x^{(i)}, z^{(i)} \\mid \\theta=\\theta^*)}}{p(x^{(i)}\\mid \\theta^*)}$\n",
    "\n",
    "$\\qquad \\qquad = \\Sigma_{i}\\frac{\\nabla_\\theta{p(x^{(i)} \\mid \\theta=\\theta^*)}}{p(x^{(i)}\\mid \\theta^*)}$\n",
    "\n",
    "$\\qquad \\qquad = \\Sigma_{i}\\nabla_\\theta \\log p(x^{(i)} \\mid \\theta=\\theta^*)$\n",
    "\n",
    "$\\qquad \\qquad = \\nabla_\\theta l(\\theta) = 0$"
   ]
  }
 ],
 "metadata": {
  "kernelspec": {
   "display_name": "Python [conda env:root] *",
   "language": "python",
   "name": "conda-root-py"
  },
  "language_info": {
   "codemirror_mode": {
    "name": "ipython",
    "version": 3
   },
   "file_extension": ".py",
   "mimetype": "text/x-python",
   "name": "python",
   "nbconvert_exporter": "python",
   "pygments_lexer": "ipython3",
   "version": "3.7.3"
  }
 },
 "nbformat": 4,
 "nbformat_minor": 2
}
