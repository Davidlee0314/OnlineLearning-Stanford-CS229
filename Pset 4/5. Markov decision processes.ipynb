{
 "cells": [
  {
   "cell_type": "markdown",
   "metadata": {},
   "source": [
    "# 5. Markov decision processes\n",
    "## (a)\n",
    "\n",
    "let $s_1$ that satisfy $V_1(s_1) - V_2(s_1) = max_{s \\in S} | V_1(s) -V_2(s) |$\n",
    "\n",
    "let $s_2$ that satisfy $ B(V_1(s_2)) - B(V_2(s_2)) = max_{s \\in S} | B(V_1(s)) -B(V_2(s)) |$\n",
    "\n",
    "Now, plug in the function of $B(V) \\Rightarrow$ \n",
    "\n",
    "$ B(V_1(s_2)) - B(V_2(s_2)) $\n",
    "\n",
    "$= \\gamma\n",
    "\\Big[\n",
    "max_{\\alpha \\in A}\\Sigma_{s' \\in S} P_{s_2\\alpha}(s')V_1(s')\n",
    "-max_{\\alpha \\in A}\\Sigma_{s' \\in S} P_{s_2\\alpha}(s') V_2(s')\n",
    "\\Big]$\n",
    "\n",
    "(Set $\\alpha_1, \\alpha_2$ be the argmax of the function)\n",
    "\n",
    "$ = \\gamma \n",
    "\\Big[\n",
    "\\Sigma_{s' \\in S} P_{s_2\\alpha_1}(s')V_1(s')\n",
    "- \\Sigma_{s' \\in S} P_{s_2\\alpha_2}(s') V_2(s')\n",
    "\\Big]$\n",
    "\n",
    "(change $\\alpha_2$ to $\\alpha_1$)\n",
    "\n",
    "$\\leq \\gamma \n",
    "\\Big[\n",
    "\\Sigma_{s' \\in S} P_{s_2\\alpha_1}(s')V_1(s')\n",
    "- \\Sigma_{s' \\in S} P_{s_2\\alpha_1}(s') V_2(s')\n",
    "\\Big]$\n",
    "\n",
    "$ = \\gamma \n",
    "\\Sigma_{s' \\in S} P_{s_2\\alpha_1}(s')\n",
    "\\Big[V_1(s') - V_2(s')\\Big]$\n",
    "\n",
    "(Since the function $\\Sigma_{s' \\in S} P_{s_2\\alpha_1}(s')\n",
    "\\Big[V_1(s') - V_2(s')\\Big]$ is the weighted average of $V_1(s') - V_2(s')$)\n",
    "\n",
    "$\\leq \\gamma \\Big[V_1(s_1) - V_2(s_1)\\Big]$"
   ]
  },
  {
   "cell_type": "markdown",
   "metadata": {},
   "source": [
    "## (b)\n",
    "\n",
    "Suppose there are two fix points $V_1, V_2$, then from the definition\n",
    "\n",
    "$ \\|B(V_1) - B(V_2)\\|_{\\infty} = \\|V_1 - V_2\\|_{\\infty} \\leq \\gamma\\|V_1 - V_2\\|_{\\infty}$\n",
    "\n",
    "It's a contradiction, so there's only at most one fix point."
   ]
  }
 ],
 "metadata": {
  "kernelspec": {
   "display_name": "Python [conda env:root] *",
   "language": "python",
   "name": "conda-root-py"
  },
  "language_info": {
   "codemirror_mode": {
    "name": "ipython",
    "version": 3
   },
   "file_extension": ".py",
   "mimetype": "text/x-python",
   "name": "python",
   "nbconvert_exporter": "python",
   "pygments_lexer": "ipython3",
   "version": "3.7.3"
  }
 },
 "nbformat": 4,
 "nbformat_minor": 2
}
